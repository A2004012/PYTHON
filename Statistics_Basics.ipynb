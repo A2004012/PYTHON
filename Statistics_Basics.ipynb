{
  "nbformat": 4,
  "nbformat_minor": 0,
  "metadata": {
    "colab": {
      "provenance": []
    },
    "kernelspec": {
      "name": "python3",
      "display_name": "Python 3"
    },
    "language_info": {
      "name": "python"
    }
  },
  "cells": [
    {
      "cell_type": "markdown",
      "source": [
        "Question 1: What is the difference between descriptive statistics and inferential statistics? Explain with examples.\n",
        "\n",
        "ans- Descriptive statistics summarize and describe the features of a dataset.   Inferential statistics use sample data to make conclusions about a larger population.\n",
        "\n",
        "Examples:\n",
        "- Descriptive statistics: Calculating the mean height of students in a class.\n",
        "- Inferential statistics: Using the mean height of a sample of students to estimate the mean height of all students in a school.\n",
        "\n",
        "Question 2: What is sampling in statistics? Explain the differences between random and stratified sampling.\n",
        "\n",
        "ans-Sampling is selecting a subset of individuals from a population to represent it.\n",
        "- Random sampling: Every individual has an equal chance of being selected.\n",
        "- Stratified sampling: The population is divided into subgroups (strata), and samples are taken from each stratum.\n",
        "\n",
        "Question 3: Define mean, median, and mode. Explain why these measures of central tendency are important.-\n",
        "\n",
        "ans- Mean: Average of all values.\n",
        "- Median: Middle value when data is ordered.\n",
        "- Mode: Most frequent value.\n",
        "These measures help understand the central tendency of a dataset.\n",
        "\n",
        "Question 4: Explain skewness and kurtosis. What does a positive skew imply about the data?\n",
        "\n",
        "ans- Skewness: Measures asymmetry.\n",
        "- Positive skew: Tail on the right side is longer or fatter.\n",
        "- Kurtosis: Measures tail heaviness compared to a normal distribution.\n",
        "A positive skew implies most data points are concentrated on the left, with a few large values on the right."
      ],
      "metadata": {
        "id": "o27eV3R4BQjM"
      }
    },
    {
      "cell_type": "markdown",
      "source": [
        "Question 5: Implement a Python program to compute the mean, median, and mode of a given list of numbers."
      ],
      "metadata": {
        "id": "VAMl9JPqEKqb"
      }
    },
    {
      "cell_type": "code",
      "source": [
        "import statistics\n",
        "\n",
        "numbers = [12, 15, 12, 18, 19, 12, 20, 22, 19, 19, 24, 24, 24, 26, 28]\n",
        "\n",
        "mean = statistics.mean(numbers)\n",
        "median = statistics.median(numbers)\n",
        "mode = statistics.mode(numbers)\n",
        "\n",
        "print(f\"Mean: {mean}\")\n",
        "print(f\"Median: {median}\")\n",
        "print(f\"Mode: {mode}\")"
      ],
      "metadata": {
        "colab": {
          "base_uri": "https://localhost:8080/"
        },
        "id": "MTapPGwsETm2",
        "outputId": "ac945296-9ce2-4424-975d-392aed923acc"
      },
      "execution_count": 7,
      "outputs": [
        {
          "output_type": "stream",
          "name": "stdout",
          "text": [
            "Mean: 19.6\n",
            "Median: 19\n",
            "Mode: 12\n"
          ]
        }
      ]
    },
    {
      "cell_type": "markdown",
      "source": [
        "Question 6: Compute covariance and correlation coefficient"
      ],
      "metadata": {
        "id": "PEnK52YYEc1A"
      }
    },
    {
      "cell_type": "code",
      "source": [
        "import numpy as np\n",
        "\n",
        "list_x = np.array([10, 20, 30, 40, 50])\n",
        "list_y = np.array([15, 25, 35, 45, 60])\n",
        "\n",
        "covariance = np.cov(list_x, list_y)[0, 1]\n",
        "correlation_coefficient = np.corrcoef(list_x, list_y)[0, 1]\n",
        "\n",
        "print(f\"Covariance: {covariance}\")\n",
        "print(f\"Correlation Coefficient: {correlation_coefficient}\")"
      ],
      "metadata": {
        "colab": {
          "base_uri": "https://localhost:8080/"
        },
        "id": "iBgzc1KwEhxW",
        "outputId": "5a2a56dd-f4bb-4f98-c17a-8dad1a19d4d1"
      },
      "execution_count": 8,
      "outputs": [
        {
          "output_type": "stream",
          "name": "stdout",
          "text": [
            "Covariance: 275.0\n",
            "Correlation Coefficient: 0.995893206467704\n"
          ]
        }
      ]
    },
    {
      "cell_type": "markdown",
      "source": [
        "Question 7: Draw a boxplot and identify outliers"
      ],
      "metadata": {
        "id": "2A3RXbGLEnj4"
      }
    },
    {
      "cell_type": "code",
      "source": [
        "import matplotlib.pyplot as plt\n",
        "import numpy as np\n",
        "\n",
        "data = np.array([12, 14, 14, 15, 18, 19, 19, 21, 22, 22, 23, 23, 24, 26, 29, 35])\n",
        "\n",
        "plt.boxplot(data)\n",
        "plt.show()\n",
        "\n",
        "Q1 = np.percentile(data, 25)\n",
        "Q3 = np.percentile(data, 75)\n",
        "IQR = Q3 - Q1\n",
        "lower_bound = Q1 - 1.5 * IQR\n",
        "upper_bound = Q3 + 1.5 * IQR\n",
        "\n",
        "outliers = data[(data < lower_bound) | (data > upper_bound)]\n",
        "print(f\"Outliers: {outliers}\")"
      ],
      "metadata": {
        "colab": {
          "base_uri": "https://localhost:8080/",
          "height": 447
        },
        "id": "5Ll90suMEswi",
        "outputId": "7b9c3694-3d39-4fce-d387-c3fb7cf85039"
      },
      "execution_count": 9,
      "outputs": [
        {
          "output_type": "display_data",
          "data": {
            "text/plain": [
              "<Figure size 640x480 with 1 Axes>"
            ],
            "image/png": "[encoded data removed]"
          },
          "metadata": {}
        },
        {
          "output_type": "stream",
          "name": "stdout",
          "text": [
            "Outliers: [35]\n"
          ]
        }
      ]
    },
    {
      "cell_type": "markdown",
      "source": [
        "Question 8You are working as a data analyst in an e-commerce company. The marketing team wants to know if there is a relationship between advertising spend and daily sales.\n",
        "- Explain how you would use covariance and correlation to explore this relationship.\n",
        "- Write Python code to compute the correlation between the two lists:\n",
        "\n",
        "advertising_spend = [200, 250, 300, 400, 500]\n",
        "daily_sales = [2200, 2450, 2750, 3200, 4000]"
      ],
      "metadata": {
        "id": "n8C6NTJIE2ka"
      }
    },
    {
      "cell_type": "code",
      "source": [
        "#Explanation: Covariance measures how much two variables change together. A positive covariance indicates that as one variable increases, the other tends to increase. Correlation is a normalized version of covariance, ranging from -1 to 1, indicating the strength and direction of\n",
        "#the linear relationship between two variables.\n",
        "import numpy as np\n",
        "\n",
        "advertising_spend = np.array([200, 250, 300, 400, 500])\n",
        "daily_sales = np.array([2200, 2450, 2750, 3200, 4000])\n",
        "\n",
        "correlation = np.corrcoef(advertising_spend, daily_sales)[0, 1]\n",
        "print(f\"Correlation: {correlation}\")"
      ],
      "metadata": {
        "colab": {
          "base_uri": "https://localhost:8080/"
        },
        "id": "0cZJRw5LFOBG",
        "outputId": "0a0aea69-820b-4792-8913-0f44c1cedbb0"
      },
      "execution_count": 12,
      "outputs": [
        {
          "output_type": "stream",
          "name": "stdout",
          "text": [
            "Correlation: 0.9935824101653329\n"
          ]
        }
      ]
    },
    {
      "cell_type": "markdown",
      "source": [
        "Question 9 Your team has collected customer satisfaction survey data on a scale of 1-10 and wants to understand its distribution before launching a new product.\n",
        "- Explain which summary statistics and visualizations (e.g. mean, standard deviation, histogram) you'd use.\n",
        "- Write Python code to create a histogram using Matplotlib for the survey data:\n",
        "\n",
        "survey_scores = [7, 8, 5, 9, 6, 7, 8, 9, 10, 4, 4, 7, 6, 9, 8, 7]"
      ],
      "metadata": {
        "id": "5XmRRfHBFlAP"
      }
    },
    {
      "cell_type": "code",
      "source": [
        "#Explanation: Useful summary statistics include the mean (average satisfaction), median (middle value), and standard deviation (variability of scores). A histogram is a great visualization to understand the distribution of survey scores.\n",
        "import matplotlib.pyplot as plt\n",
        "import numpy as np\n",
        "\n",
        "survey_scores = [7, 8, 5, 9, 6, 7, 8, 9, 10, 4, 4, 7, 6, 9, 8, 7]\n",
        "\n",
        "plt.hist(survey_scores, bins=np.arange(1, 12)-0.5, edgecolor='black')\n",
        "plt.xlabel('Satisfaction Score')\n",
        "plt.ylabel('Frequency')\n",
        "plt.title('Distribution of Customer Satisfaction Scores')\n",
        "plt.show()"
      ],
      "metadata": {
        "colab": {
          "base_uri": "https://localhost:8080/",
          "height": 472
        },
        "id": "dYf8QkFCFsUe",
        "outputId": "4dc02648-24f2-45d6-8730-506f3991c117"
      },
      "execution_count": 13,
      "outputs": [
        {
          "output_type": "display_data",
          "data": {
            "text/plain": [
              "<Figure size 640x480 with 1 Axes>"
            ],
            "image/png": "[encoded data removed]"
          },
          "metadata": {}
        }
      ]
    }
  ]
}