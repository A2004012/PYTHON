{
  "nbformat": 4,
  "nbformat_minor": 0,
  "metadata": {
    "colab": {
      "provenance": []
    },
    "kernelspec": {
      "name": "python3",
      "display_name": "Python 3"
    },
    "language_info": {
      "name": "python"
    }
  },
  "cells": [
    {
      "cell_type": "markdown",
      "source": [
        "#**Restful** **API & Flask** **(Theory Questions)**\n"
      ],
      "metadata": {
        "id": "6y3gmpThhjkF"
      }
    },
    {
      "cell_type": "code",
      "source": [
        "1.What is a RESTful API?\n",
        "Answer: RESTful API is a way to allow two applications to communicate over the internet using HTTP methods like GET, POST, PUT, DELETE.\n",
        "\n",
        "2. Explain the concept of API specification.\n",
        "Answer: API specification is like a manual that defines how an API works, what endpoints are available, what input it takes, and what output it gives.\n",
        "\n",
        "3. What is Flask, and why is it popular for building APIs?\n",
        "Answer: Flask is a lightweight Python web framework. It is popular because it is easy to use, flexible, has many extensions, and is good for small to medium APIs.\n",
        "\n",
        "4. What is routing in Flask?\n",
        "Answer: Routing is mapping a URL to a function. Example: /home URL shows the home function’s response.\n",
        "\n",
        "5. How do you create a simple Flask application?\n",
        "Answer: By importing Flask, creating an app object, defining a route, and running the app.\n",
        "\n",
        "6. What are HTTP methods used in RESTful APIs?\n",
        "Answer: GET, POST, PUT, DELETE, PATCH.\n",
        "\n",
        "7. What is the purpose of the @app.route() decorator in Flask?\n",
        "Answer: It tells Flask which URL should run which function.\n",
        "\n",
        "8. What is the difference between GET and POST HTTP methods?\n",
        "Answer: GET is used to read/fetch data, POST is used to send/submit data.\n",
        "\n",
        "9. How do you handle errors in Flask APIs?\n",
        "Answer: By using try-except blocks or Flask error handlers like @app.errorhandler.\n",
        "\n",
        "10. How do you connect Flask to a SQL database?\n",
        "Answer: By using the Flask-SQLAlchemy library.\n",
        "\n",
        "11. What is the role of Flask-SQLAlchemy?\n",
        "Answer: It helps to connect with databases and perform queries easily.\n",
        "\n",
        "12. What are Flask blueprints, and how are they useful?\n",
        "Answer: Blueprints are like mini-apps inside Flask, useful for organizing large applications into smaller parts.\n",
        "\n",
        "13. What is the purpose of Flask’s request object?\n",
        "Answer: It is used to get data sent by the client (form data, JSON, headers).\n",
        "\n",
        "14. How do you create a RESTful API endpoint using Flask?\n",
        "Answer: By defining a route and specifying methods like GET or POST.\n",
        "\n",
        "15. What is the purpose of Flask’s jsonify() function?\n",
        "Answer: It converts Python data (dict, list) into JSON response.\n",
        "\n",
        "16. Explain Flask’s url_for() function.\n",
        "Answer: It generates URLs dynamically for routes instead of hardcoding them.\n",
        "\n",
        "17. How does Flask handle static files (CSS, JavaScript, etc.)?\n",
        "Answer: By placing them in the static/ folder and accessing them with /static/filename.\n",
        "\n",
        "18. What is an API specification, and how does it help in building a Flask API?\n",
        "Answer: API specification describes how the API should behave. It helps developers understand how to use it properly.\n",
        "\n",
        "19. What are HTTP status codes, and why are they important in a Flask API?\n",
        "Answer: Status codes (200, 404, 500, etc.) show the result of the request. They help in knowing success or error.\n",
        "\n",
        "20. How do you handle POST requests in Flask?\n",
        "Answer: By using request.form for form data or request.json for JSON data.\n",
        "\n",
        "21. How would you secure a Flask API?\n",
        "Answer: By using authentication, HTTPS, and input validation.\n",
        "\n",
        "22. What is the significance of the Flask-RESTful extension?\n",
        "Answer: It makes building REST APIs easier with ready-made classes and functions.\n",
        "\n",
        "23. What is the role of Flask’s session object?\n",
        "Answer: It stores temporary user data (like login info) between requests."
      ],
      "metadata": {
        "id": "4-9Dn6Fiifav"
      },
      "execution_count": null,
      "outputs": []
    },
    {
      "cell_type": "markdown",
      "source": [
        "#**Practical**\n"
      ],
      "metadata": {
        "id": "hESanqwBikCM"
      }
    },
    {
      "cell_type": "markdown",
      "source": [
        "1.How do you create a basic Flask application?"
      ],
      "metadata": {
        "id": "_rwpAcbmj44P"
      }
    },
    {
      "cell_type": "code",
      "source": [
        "from flask import Flask\n",
        "app = Flask(__name__)\n",
        "\n",
        "@app.route('/')\n",
        "def home():\n",
        "    return 'Hello, World!'\n",
        "\n",
        "if __name__ == '__main__':\n",
        "    app.run()"
      ],
      "metadata": {
        "colab": {
          "base_uri": "https://localhost:8080/"
        },
        "id": "O2KU7y8Bj5TP",
        "outputId": "b2f33097-3797-4a1e-ecca-082bedb148a3"
      },
      "execution_count": 8,
      "outputs": [
        {
          "output_type": "stream",
          "name": "stdout",
          "text": [
            " * Serving Flask app '__main__'\n",
            " * Debug mode: off\n"
          ]
        },
        {
          "output_type": "stream",
          "name": "stderr",
          "text": [
            "INFO:werkzeug:\u001b[31m\u001b[1mWARNING: This is a development server. Do not use it in a production deployment. Use a production WSGI server instead.\u001b[0m\n",
            " * Running on http://127.0.0.1:5000\n",
            "INFO:werkzeug:\u001b[33mPress CTRL+C to quit\u001b[0m\n"
          ]
        }
      ]
    },
    {
      "cell_type": "markdown",
      "source": [
        "2.How do you serve static files like images or CSS in Flask?"
      ],
      "metadata": {
        "id": "dvVev5Q-j55x"
      }
    },
    {
      "cell_type": "code",
      "source": [
        "import os\n",
        "\n",
        "# Create the static directory if it doesn't exist\n",
        "if not os.path.exists('static'):\n",
        "    os.makedirs('static')\n",
        "\n",
        "# Create a dummy CSS file\n",
        "css_content = \"\"\"\n",
        "body {\n",
        "    background-color: lightblue;\n",
        "    font-family: sans-serif;\n",
        "}\n",
        "\"\"\"\n",
        "with open('static/style.css', 'w') as f:\n",
        "    f.write(css_content)\n",
        "\n",
        "print(\"Created static/style.css\")"
      ],
      "metadata": {
        "colab": {
          "base_uri": "https://localhost:8080/"
        },
        "id": "9YNcGOopj_Bz",
        "outputId": "e118f0b6-1d5e-4a25-a3a7-4eca7a104f4e"
      },
      "execution_count": 41,
      "outputs": [
        {
          "output_type": "stream",
          "name": "stdout",
          "text": [
            "Created static/style.css\n"
          ]
        }
      ]
    },
    {
      "cell_type": "code",
      "source": [
        "# Create the templates directory if it doesn't exist\n",
        "if not os.path.exists('templates'):\n",
        "    os.makedirs('templates')\n",
        "\n",
        "# Create a dummy HTML template\n",
        "html_content = \"\"\"\n",
        "<!doctype html>\n",
        "<html>\n",
        "<head>\n",
        "    <title>Static Files Example</title>\n",
        "    <link rel=\"stylesheet\" href=\"{{ url_for('static', filename='style.css') }}\">\n",
        "</head>\n",
        "<body>\n",
        "    <h1>Serving Static Files</h1>\n",
        "    <p>This page should have a light blue background if the CSS is loaded.</p>\n",
        "</body>\n",
        "</html>\n",
        "\"\"\"\n",
        "with open('templates/index.html', 'w') as f:\n",
        "    f.write(html_content)\n",
        "\n",
        "print(\"Created templates/index.html\")"
      ],
      "metadata": {
        "colab": {
          "base_uri": "https://localhost:8080/"
        },
        "id": "moczljCsrv3j",
        "outputId": "c6006780-8fe2-4775-d8cd-180953c670c3"
      },
      "execution_count": 42,
      "outputs": [
        {
          "output_type": "stream",
          "name": "stdout",
          "text": [
            "Created templates/index.html\n"
          ]
        }
      ]
    },
    {
      "cell_type": "markdown",
      "source": [
        "3.How do you define different routes with different HTTP methods in Flask?"
      ],
      "metadata": {
        "id": "1gZAWBqIkADD"
      }
    },
    {
      "cell_type": "code",
      "source": [
        "@app.route('/submit', methods=['GET', 'POST'])\n",
        "def submit():\n",
        "    if request.method == 'POST':\n",
        "        return \"Form Submitted\"\n",
        "    return \"Form Page\""
      ],
      "metadata": {
        "id": "P3em7VrpkAS3"
      },
      "execution_count": 15,
      "outputs": []
    },
    {
      "cell_type": "markdown",
      "source": [
        "4.How do you render HTML templates in Flask?"
      ],
      "metadata": {
        "id": "9eZwjy5ukA1q"
      }
    },
    {
      "cell_type": "code",
      "source": [
        "from flask import render_template\n",
        "\n",
        "@app.route('/about')\n",
        "def about():\n",
        "    return render_template(\"about.html\")"
      ],
      "metadata": {
        "id": "iWJvUyLFkBFS"
      },
      "execution_count": 26,
      "outputs": []
    },
    {
      "cell_type": "markdown",
      "source": [
        "5.How can you generate URLs for routes in Flask using url_for?"
      ],
      "metadata": {
        "id": "LtNu90fLkBR0"
      }
    },
    {
      "cell_type": "code",
      "source": [
        "from flask import url_for, Flask\n",
        "\n",
        "# Assuming 'app' Flask instance is already created in a previous cell\n",
        "\n",
        "# Somewhere else, within a test request context\n",
        "with app.test_request_context():\n",
        "    # Assuming the 'profile' endpoint is already defined in a previous cell\n",
        "    try:\n",
        "        generated_url = url_for('profile', username='Ashish')\n",
        "        print(generated_url)\n",
        "    except Exception as e:\n",
        "        print(f\"Error generating URL: {e}\")"
      ],
      "metadata": {
        "colab": {
          "base_uri": "https://localhost:8080/"
        },
        "id": "24WcKc5YkBcu",
        "outputId": "7577fe61-261f-4b4a-c8e4-eaa2894218a0"
      },
      "execution_count": 36,
      "outputs": [
        {
          "output_type": "stream",
          "name": "stdout",
          "text": [
            "/profile/Ashish\n"
          ]
        }
      ]
    },
    {
      "cell_type": "code",
      "source": [
        "from google.colab import drive\n",
        "drive.mount('/content/drive')"
      ],
      "metadata": {
        "id": "31hpNuWGq_NH"
      },
      "execution_count": null,
      "outputs": []
    },
    {
      "cell_type": "markdown",
      "source": [
        "6.How do you handle forms in Flask?"
      ],
      "metadata": {
        "id": "u9C6roU5kBpB"
      }
    },
    {
      "cell_type": "code",
      "source": [
        "from flask import request\n",
        "\n",
        "@app.route('/login', methods=['POST'])\n",
        "def login():\n",
        "    username = request.form['username']\n",
        "    return f\"Welcome {username}\""
      ],
      "metadata": {
        "id": "qfk61x5OkBym"
      },
      "execution_count": 31,
      "outputs": []
    },
    {
      "cell_type": "markdown",
      "source": [
        "7.How can you validate form data in Flask?"
      ],
      "metadata": {
        "id": "eKxZz7c9kB9Z"
      }
    },
    {
      "cell_type": "code",
      "source": [
        "from flask import request\n",
        "\n",
        "@app.route('/validate', methods=['POST'])\n",
        "def validate_form():\n",
        "    if not request.form.get('username'): # Using .get() is safer as it returns None if the key is not present\n",
        "        return \"Username required!\", 400 # Return a 400 status code for a bad request\n",
        "    # Add other validation logic here\n",
        "    return \"Form submitted successfully!\", 200 # Return a 200 status code for success"
      ],
      "metadata": {
        "id": "XsWk5z76kCHa"
      },
      "execution_count": 30,
      "outputs": []
    },
    {
      "cell_type": "markdown",
      "source": [
        "8.How do you manage sessions in Flask?"
      ],
      "metadata": {
        "id": "Io7y_QodkCRJ"
      }
    },
    {
      "cell_type": "code",
      "source": [
        "from flask import session\n",
        "\n",
        "app.secret_key = \"mysecret\"\n",
        "\n",
        "@app.route('/set')\n",
        "def set():\n",
        "    session['user'] = \"Ashish\"\n",
        "    return \"Session set!\"\n",
        "\n",
        "@app.route('/get')\n",
        "def get():\n",
        "    return session.get('user', \"No session\")"
      ],
      "metadata": {
        "id": "_HzshA-_kCZ1"
      },
      "execution_count": 29,
      "outputs": []
    },
    {
      "cell_type": "markdown",
      "source": [
        "9.How do you redirect to a different route in Flask?"
      ],
      "metadata": {
        "id": "cSdnuL7FkCjF"
      }
    },
    {
      "cell_type": "code",
      "source": [
        "from flask import redirect, url_for\n",
        "\n",
        "@app.route('/old')\n",
        "def old():\n",
        "    return redirect(url_for('new'))\n",
        "\n",
        "@app.route('/new')\n",
        "def new():\n",
        "    return \"This is new page!\""
      ],
      "metadata": {
        "id": "WgjyiHXJkCrv"
      },
      "execution_count": 21,
      "outputs": []
    },
    {
      "cell_type": "markdown",
      "source": [
        "10.How do you handle errors in Flask (e.g., 404)?"
      ],
      "metadata": {
        "id": "pxeVGV7jkCzj"
      }
    },
    {
      "cell_type": "code",
      "source": [
        "@app.errorhandler(404)\n",
        "def not_found(e):\n",
        "    return \"Page not found!\", 404"
      ],
      "metadata": {
        "id": "adlNMyi6kC8U"
      },
      "execution_count": 20,
      "outputs": []
    },
    {
      "cell_type": "markdown",
      "source": [
        "11.How do you structure a Flask app using Blueprints?"
      ],
      "metadata": {
        "id": "aTHMWmKIkDDu"
      }
    },
    {
      "cell_type": "code",
      "source": [
        "# user.py\n",
        "from flask import Blueprint\n",
        "user_bp = Blueprint(\"user\", __name__)\n",
        "\n",
        "@user_bp.route('/profile')\n",
        "def profile():\n",
        "    return \"User Profile\"\n",
        "\n",
        "# main.py\n",
        "from flask import Flask\n",
        "# Assuming user.py is in the same directory or accessible\n",
        "# from user import user_bp\n",
        "\n",
        "app = Flask(__name__)\n",
        "# app.register_blueprint(user_bp, url_prefix=\"/user\")\n",
        "\n",
        "# Note: In a real application, you would typically have these in separate files\n",
        "# and run the main application file. For demonstration in Colab, you can\n",
        "# define them sequentially or import if user.py is a separate file you've uploaded/created."
      ],
      "metadata": {
        "id": "kpfsyZwvkDLr"
      },
      "execution_count": 28,
      "outputs": []
    },
    {
      "cell_type": "markdown",
      "source": [
        "12.How do you define a custom Jinja filter in Flask?"
      ],
      "metadata": {
        "id": "GikpLqw_kDTM"
      }
    },
    {
      "cell_type": "code",
      "source": [
        "@app.template_filter(\"reverse\")\n",
        "def reverse_filter(s):\n",
        "    return s[::-1]\n",
        "\n",
        "# In HTML:\n",
        "# {{ \"hello\"|reverse }} → \"olleh\""
      ],
      "metadata": {
        "id": "6kGxmqBkkDah"
      },
      "execution_count": 18,
      "outputs": []
    },
    {
      "cell_type": "markdown",
      "source": [
        "13.How can you redirect with query parameters in Flask?"
      ],
      "metadata": {
        "id": "uSK8ev3-kDhj"
      }
    },
    {
      "cell_type": "code",
      "source": [
        "@app.route('/search')\n",
        "def search():\n",
        "    return redirect(url_for('result', q=\"flask\"))\n",
        "\n",
        "@app.route('/result')\n",
        "def result():\n",
        "    query = request.args.get('q')\n",
        "    return f\"Result for {query}\""
      ],
      "metadata": {
        "id": "NPuCenABkDoq"
      },
      "execution_count": 17,
      "outputs": []
    },
    {
      "cell_type": "markdown",
      "source": [
        "14.How do you return JSON responses in Flask?"
      ],
      "metadata": {
        "id": "zV5mi_e5k36Y"
      }
    },
    {
      "cell_type": "code",
      "source": [
        "from flask import jsonify\n",
        "\n",
        "@app.route('/data')\n",
        "def data():\n",
        "    return jsonify({\"name\": \"Ashish\", \"age\": 21})"
      ],
      "metadata": {
        "id": "5kaOxa7ok4NV"
      },
      "execution_count": 16,
      "outputs": []
    },
    {
      "cell_type": "markdown",
      "source": [
        "15.How do you capture URL parameters in Flask?"
      ],
      "metadata": {
        "id": "SY6E8DQOk4Vl"
      }
    },
    {
      "cell_type": "code",
      "source": [
        "@app.route('/user/<name>/<int:age>')\n",
        "def user(name, age):\n",
        "    return f\"Name: {name}, Age: {age}\""
      ],
      "metadata": {
        "id": "BOF4fhSYlARC"
      },
      "execution_count": 27,
      "outputs": []
    },
    {
      "cell_type": "markdown",
      "metadata": {
        "id": "ffdaae51"
      },
      "source": [
        "<link rel=\"stylesheet\" href=\"{{ url_for('static', filename='style.css') }}\">"
      ]
    }
  ]
}