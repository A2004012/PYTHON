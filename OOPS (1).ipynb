{
  "nbformat": 4,
  "nbformat_minor": 0,
  "metadata": {
    "colab": {
      "provenance": []
    },
    "kernelspec": {
      "name": "python3",
      "display_name": "Python 3"
    },
    "language_info": {
      "name": "python"
    }
  },
  "cells": [
    {
      "cell_type": "markdown",
      "source": [
        "#                                                     Python OOPs Questions#"
      ],
      "metadata": {
        "id": "gNCCqpGBPPWZ"
      }
    },
    {
      "cell_type": "markdown",
      "source": [
        "1. **What is Object-Oriented Programming (OOP)?\n",
        "\n",
        "   Ans-  Object-Oriented Programming (OOP) is a programming paradigm that revolves around the concept of \"objects\" that can contain data and code that manipulates that data. It focuses on organizing software design around objects and the relationships between them, promoting code reusability, modularity, and easier maintenance.\n",
        "\n",
        "2. What is a class in OOP?\n",
        "\n",
        "    Ans- A class in OOP is a blueprint or template for creating objects. It defines a set of attributes (data) and methods (functions) that the objects created from the class will have. Classes are essentially a design pattern or template that defines the characteristics of an object.\n",
        "\n",
        "3. What is an object in OOP?\n",
        "\n",
        "    Ans- An object in OOP is an instance of a class. It represents a real-world entity or concept and has its own set of attributes (data) and methods (functions) as defined by its class. Objects are the actual entities that are created using the class blueprint.\n",
        "\n",
        "4. What is the difference between abstraction and encapsulation?\n",
        "\n",
        "   Ans- Abstraction is the practice of showing only the necessary details to the outside world while hiding the internal implementation. Encapsulation is the concept of bundling data and its associated methods that operate on that data within a single unit, making it harder for other parts of the program to access or modify the data directly. While related, abstraction is about exposing only the necessary information, and encapsulation is about bundling data and methods together.\n",
        "\n",
        "5. What are dunder methods in Python?\n",
        "\n",
        "    Ans- Dunder methods, short for \"double underscore\" methods, are special methods in Python classes that are surrounded by double underscores (also called \"dunder\" for double underscore). They are used for operator overloading, allowing objects to behave like built-in types. Examples include __init__, __str__, and __repr__.\n",
        "\n",
        "6. Explain the concept of inheritance in OOP.\n",
        "\n",
        "    Ans-Inheritance is a mechanism in OOP where a new class (the subclass or derived class) inherits the attributes and methods of an existing class (the superclass or base class). The subclass inherits all the fields and methods of the superclass and can also add new fields and methods or override the ones inherited from the superclass.\n",
        "\n",
        "7. What is polymorphism in OOP?\n",
        "\n",
        "    Ans- Polymorphism is the ability of an object to take on multiple forms. This can be achieved through method overriding or method overloading. In Python, polymorphism is often achieved through duck typing, where objects of different classes can be treated as the same type if they have the same methods.\n",
        "\n",
        "8. How is encapsulation achieved in Python?\n",
        "\n",
        "    Ans- Encapsulation in Python is achieved by using classes and objects. By defining attributes and methods within a class, you encapsulate data and behavior. Python also supports access modifiers like private (using double underscore prefix) to restrict direct access to certain attributes or methods, though it's more about convention than strict enforcement.\n",
        "\n",
        "9. What is a constructor in Python?\n",
        "\n",
        "     Ans- A constructor in Python is a special method named __init__ that is automatically called when an object of a class is instantiated. It is used to initialize the attributes of the class.\n",
        "\n",
        "10. What are class and static methods in Python?\n",
        "\n",
        "    Ans- Class methods are methods that are bound to the class rather than the instance of the class. They are defined using the @classmethod decorator and receive the class as the first argument. Static methods are methods that belong to a class rather than an instance of the class. They are defined using the @staticmethod decorator and do not receive the instance or class as an argument.\n",
        "\n",
        "11. What is method overloading in Python?\n",
        "\n",
        "    Ans - Python does not support method overloading in the traditional sense like some other languages. However, you can achieve similar behavior using default argument values or by using the *args syntax to handle variable numbers of arguments.\n",
        "\n",
        "12. What is method overriding in OOP?\n",
        "\n",
        "    Ans - Method overriding is a feature of OOP where a subclass provides a different implementation of a method that is already defined in its superclass. The method in the subclass has the same name, return type, and parameter list as the method in the superclass but can have a different implementation.\n",
        "\n",
        "13. What is a property decorator in Python?\n",
        "\n",
        "    Ans - The property decorator in Python is used to customize access to instance data. It allows you to define getter, setter, and deleter methods for an attribute, making it possible to control how the attribute is accessed or modified.\n",
        "\n",
        "14. Why is polymorphism important in OOP?\n",
        "\n",
        "    Ans- Polymorphism is important because it allows for more flexibility in programming. It enables you to write code that can work with different data types, making your programs more generic and reusable.\n",
        "\n",
        "15. What is an abstract class in Python?\n",
        "\n",
        "    Ans- An abstract class in Python is a class that cannot be instantiated on its own and is designed to be inherited by other classes. It can contain both abstract methods (methods without implementation\n",
        "16. What are the advantages of OOP?\n",
        "\n",
        "    Ans -The advantages of OOP include code reusability, modularity, easier maintenance, and improved readability. OOP also promotes abstraction, encapsulation, and inheritance, making it easier to model real-world systems.\n",
        "\n",
        "17. What is the difference between a class variable and an instance variable?\n",
        "\n",
        "    Ans - A class variable is a variable that is shared by all instances of a class, whereas an instance variable is a variable that is unique to each instance of a class. Class variables are defined at the class level, while instance variables are defined inside methods, typically in the __init__ method.\n",
        "\n",
        "18. What is multiple inheritance in Python?\n",
        "\n",
        "    Ans- Multiple inheritance in Python is a feature that allows a class to inherit attributes and methods from more than one superclass. This means a subclass can inherit the properties of multiple base classes.\n",
        "\n",
        "19. Explain the purpose of __str__ and __repr__ methods in Python.\n",
        "\n",
        "    Ans- The __str__ method is used to return a string representation of an object that is human-readable, typically used for end-user display. The __repr__ method is used to return a string that represents the object in a way that is useful for debugging and logging, ideally a valid Python expression that could be used to recreate the object.\n",
        "\n",
        "20. What is the significance of the super() function in Python?\n",
        "\n",
        "    Ans- The super() function in Python is used to give access to methods and properties of a parent or sibling class. It returns a proxy object that delegates method calls to a parent or sibling class, allowing for method overriding and extension.\n",
        "\n",
        "21. What is the significance of the __del__ method in Python?\n",
        "\n",
        "    Ans- The __del__ method is a special method that is called when an object is about to be destroyed. It is used to release any resources (like file handles or network connections) that the object might be holding onto.\n",
        "\n",
        "22. What is the difference between __getattr__ and __getattribute__ in Python?\n",
        "\n",
        "    Ans- The __getattr__ method is called when an attribute is accessed that does not exist in the object. The __getattribute__ method is called for every attribute access, whether the attribute exists or not. __getattribute__ is more low-level and can be used to implement more complex attribute access logic.\n",
        "\n",
        "23. How does polymorphism work in Python with inheritance?\n",
        "\n",
        "    Ans-In Python, polymorphism with inheritance works by allowing a subclass to override methods of its superclass. When a method is called on an object, Python first looks for the method in the object's class and then in its superclasses, following the method resolution order (MRO). This allows objects of different classes to be treated as if they were of the same class if they have the same method names.\n",
        "\n",
        "24. What is method chaining in Python OOP?\n",
        "\n",
        "     Ans- Method chaining is a technique where multiple methods are called on the same object in a single statement. Each method returns the object itself, allowing the next method to be called on the same object. This can make the code more concise and easier to read.\n",
        "\n",
        "25. What is the purpose of the __call__ method in Python?\n",
        "\n",
        "     Ans- The __call__ method makes an instance of a class callable. When an instance is called like a function, Python invokes the __call__ method. This can be useful for creating objects that behave like functions but also have the ability to maintain state.\n",
        "    "
      ],
      "metadata": {
        "id": "EAyQRx5fPw-s"
      }
    },
    {
      "cell_type": "markdown",
      "source": [
        "# Practical questions"
      ],
      "metadata": {
        "id": "KJPnHbkPTftU"
      }
    },
    {
      "cell_type": "markdown",
      "source": [
        "1. Create a parent class Animal with a method speak() that prints a generic message. Create a child class Dog that overrides the speak() method to print \"bark\"."
      ],
      "metadata": {
        "id": "3gbCco9oUmm2"
      }
    },
    {
      "cell_type": "code",
      "source": [
        "class animal:\n",
        "    def speak(self):\n",
        "        print(\"generic message\")\n",
        "class dog(animal):\n",
        "    def speak(self):\n",
        "        print(\"bark\")"
      ],
      "metadata": {
        "id": "Yg5s_uqgUsfS"
      },
      "execution_count": null,
      "outputs": []
    },
    {
      "cell_type": "markdown",
      "source": [
        "2. Write a program to create an abstract class Shape with a method area().      Derive classes Circle and Rectangle from it and implement the area() method in both."
      ],
      "metadata": {
        "id": "PbnQ-zgts3rB"
      }
    },
    {
      "cell_type": "code",
      "source": [
        "from abc import ABC, abstractmethod\n",
        "\n",
        "class Shape(ABC):\n",
        "    @abstractmethod\n",
        "    def area(self):\n",
        "        pass\n",
        "\n",
        "class Circle(Shape):\n",
        "    def __init__(self, radius):\n",
        "        self.radius = radius\n",
        "    def area(self):\n",
        "        return 3.14 * self.radius * self.radius\n",
        "\n",
        "class Rectangle(Shape):\n",
        "    def __init__(self, width, height):\n",
        "        self.width = width\n",
        "        self.height = height\n",
        "    def area(self):\n",
        "        return self.width * self.height"
      ],
      "metadata": {
        "id": "YcjoR4-GUciy"
      },
      "execution_count": 1,
      "outputs": []
    },
    {
      "cell_type": "markdown",
      "source": [
        "  3. Implement a multi-level inheritance scenario where a class Vehicle has an attribute type. Derive a class Car and further derive a class ElectricCar that adds a battery attribute."
      ],
      "metadata": {
        "id": "a-lH3F_9IrbA"
      }
    },
    {
      "cell_type": "code",
      "source": [
        "class Vehicle:\n",
        "  def __init__(self, type):\n",
        "        self.type = type\n",
        "class Car(Vehicle):\n",
        "  def __init__(self,type,brand):\n",
        "        super().__init__(type)\n",
        "        self.brand=brand\n",
        "class ElectricCar(Car):\n",
        "  def __init__(self,type,brand,battery):\n",
        "    super().__init__(type,brand)\n",
        "    self.battery=battery"
      ],
      "metadata": {
        "id": "0qeuVYfQUZlV"
      },
      "execution_count": 6,
      "outputs": []
    },
    {
      "cell_type": "markdown",
      "source": [
        "4. Demonstrate polymorphism by creating a base class Bird with a method fly(). Create two derived classes Sparrow and Penguin that override the fly() method.\n"
      ],
      "metadata": {
        "id": "Q9QEFlFkL56g"
      }
    },
    {
      "cell_type": "code",
      "source": [
        "class Bird:\n",
        "    def fly(self):\n",
        "        print(\"Some birds can fly\")\n",
        "\n",
        "class Sparrow(Bird):\n",
        "    def fly(self):\n",
        "        print(\"Sparrow flies high\")\n",
        "\n",
        "class Penguin(Bird):\n",
        "    def fly(self):\n",
        "        print(\"Penguins cannot fly\")"
      ],
      "metadata": {
        "id": "4tsMqqHsLt3g"
      },
      "execution_count": 7,
      "outputs": []
    },
    {
      "cell_type": "markdown",
      "source": [
        "5. Write a program to demonstrate encapsulation by creating a class BankAccount with private attributes balance and methods to deposit, withdraw, and check balance.\n"
      ],
      "metadata": {
        "id": "gs0noRaAL8Yu"
      }
    },
    {
      "cell_type": "code",
      "source": [
        "class BankAccount:\n",
        "    def _init_(self, balance):\n",
        "        self.__balance = balance\n",
        "\n",
        "    def deposit(self, amount):\n",
        "        self.__balance += amount\n",
        "\n",
        "    def withdraw(self, amount):\n",
        "        if amount <= self.__balance:\n",
        "            self.__balance -= amount\n",
        "\n",
        "    def check_balance(self):\n",
        "        return self.__balanc"
      ],
      "metadata": {
        "id": "Oqq8u1ezLqXx"
      },
      "execution_count": 8,
      "outputs": []
    },
    {
      "cell_type": "markdown",
      "source": [
        "6. Demonstrate runtime polymorphism using a method play() in a base class Instrument. Derive classes Guitar and Piano that implement their own version of play().\n"
      ],
      "metadata": {
        "id": "Trb92H7_MBr7"
      }
    },
    {
      "cell_type": "code",
      "source": [
        "class Instrument:\n",
        "    def play(self):\n",
        "        print(\"Instrument is playing\")\n",
        "\n",
        "class Guitar(Instrument):\n",
        "    def play(self):\n",
        "        print(\"Guitar is playing\")\n",
        "\n",
        "class Piano(Instrument):\n",
        "    def play(self):\n",
        "        print(\"Piano is playing\")"
      ],
      "metadata": {
        "id": "h3ERYPWJUYHH"
      },
      "execution_count": 11,
      "outputs": []
    },
    {
      "cell_type": "markdown",
      "source": [
        "7. Create a class MathOperations with a class method add_numbers() to add two  numbers and a static method subtract_numbers() to subtract two numbers."
      ],
      "metadata": {
        "id": "jmKzWB47MGel"
      }
    },
    {
      "cell_type": "code",
      "source": [
        "class MathOperations:\n",
        "    @classmethod\n",
        "    def add_numbers(cls, a, b):\n",
        "        return a + b\n",
        "\n",
        "    @staticmethod\n",
        "    def subtract_numbers(a, b):\n",
        "        return a - b"
      ],
      "metadata": {
        "id": "RrUDYJiHMKn6"
      },
      "execution_count": 12,
      "outputs": []
    },
    {
      "cell_type": "markdown",
      "source": [
        "8. Implement a class Person with a class method to count the total number of persons created.\n"
      ],
      "metadata": {
        "id": "M4NjcBsUMLKq"
      }
    },
    {
      "cell_type": "code",
      "source": [
        "class Person:\n",
        "    count = 0\n",
        "\n",
        "    def _init_(self):\n",
        "        Person.count += 1\n",
        "\n",
        "    @classmethod\n",
        "    def total_persons(cls):\n",
        "        return cls.count"
      ],
      "metadata": {
        "id": "Ci85bt3GMYvQ"
      },
      "execution_count": 13,
      "outputs": []
    },
    {
      "cell_type": "markdown",
      "source": [
        "9. Write a class Fraction with attributes numerator and denominator. Override the str method to display the fraction as \"numerator/denominato"
      ],
      "metadata": {
        "id": "U4Vu36jLMZLZ"
      }
    },
    {
      "cell_type": "code",
      "source": [
        "class Fraction:\n",
        "    def _init_(self, numerator, denominator):\n",
        "        self.numerator = numerator\n",
        "        self.denominator = denominator\n",
        "\n",
        "    def _str_(self):\n",
        "        return f\"{self.numerator}/{self.denominator}\""
      ],
      "metadata": {
        "id": "kqVsUc4QMc4n"
      },
      "execution_count": 15,
      "outputs": []
    },
    {
      "cell_type": "markdown",
      "source": [
        "10. Demonstrate operator overloading by creating a class Vector and overriding the add method to add two vectors."
      ],
      "metadata": {
        "id": "qctSLEfhMdMm"
      }
    },
    {
      "cell_type": "code",
      "source": [
        "class Vector:\n",
        "    def _init_(self, x, y):\n",
        "        self.x = x\n",
        "        self.y = y\n",
        "\n",
        "    def _add_(self, other):\n",
        "        return Vector(self.x + other.x, self.y + other.y)\n",
        "\n",
        "    def _str_(self):\n",
        "        return f\"({self.x}, {self.y})\""
      ],
      "metadata": {
        "id": "hb857U3DMjh7"
      },
      "execution_count": 16,
      "outputs": []
    },
    {
      "cell_type": "markdown",
      "source": [
        "11. Create a class Person with attributes name and age. Add a method greet() that prints \"Hello, my name is {name} and I am {age} years old\""
      ],
      "metadata": {
        "id": "tmzmDeqQMjv6"
      }
    },
    {
      "cell_type": "code",
      "source": [
        "class Person:\n",
        "    def _init_(self, name, age):\n",
        "        self.name = name\n",
        "        self.age = age\n",
        "\n",
        "    def greet(self):\n",
        "        return f\"Hello, my name is {self.name} and I am {self.age} years old.\""
      ],
      "metadata": {
        "id": "Weeds-f-Mu5o"
      },
      "execution_count": 17,
      "outputs": []
    },
    {
      "cell_type": "markdown",
      "source": [
        "12. Implement a class Student with attributes name and grades. Create a method average_grade() to compute the average of the grades.\n"
      ],
      "metadata": {
        "id": "RLrd8EoaNs7C"
      }
    },
    {
      "cell_type": "code",
      "source": [
        "class Student:\n",
        "    def _init_(self, name, grades):\n",
        "        self.name = name\n",
        "        self.grades = grades\n",
        "\n",
        "    def average_grade(self):\n",
        "        return sum(self.grades) / len(self.grades)"
      ],
      "metadata": {
        "id": "uIwEl7jSM1HF"
      },
      "execution_count": 18,
      "outputs": []
    },
    {
      "cell_type": "markdown",
      "source": [
        "13. Create a class Rectangle with methods set_dimensions() to set the dimensions and area() to calculate the area.\n"
      ],
      "metadata": {
        "id": "wJuR0EfyM1bn"
      }
    },
    {
      "cell_type": "code",
      "source": [
        "class Rectangle:\n",
        "    def set_dimensions(self, length, width):\n",
        "        self.length = length\n",
        "        self.width = width\n",
        "\n",
        "    def area(self):\n",
        "        return self.length * self.width"
      ],
      "metadata": {
        "id": "yQgaCbJ3M75E"
      },
      "execution_count": 19,
      "outputs": []
    },
    {
      "cell_type": "markdown",
      "source": [
        "14. Create a class Employee with a method calculate_salary() that computes the salary based on hours worked and hourly rate. Create a derived class Manager that adds a bonus to the salary.\n"
      ],
      "metadata": {
        "id": "lweTopnHM8Qj"
      }
    },
    {
      "cell_type": "code",
      "source": [
        "class Employee:\n",
        "    def _init_(self, hours, rate):\n",
        "        self.hours = hours\n",
        "        self.rate = rate\n",
        "\n",
        "    def calculate_salary(self):\n",
        "        return self.hours * self.rate\n",
        "\n",
        "class Manager(Employee):\n",
        "    def _init_(self, hours, rate, bonus):\n",
        "        super()._init_(hours, rate)\n",
        "        self.bonus = bonus\n",
        "\n",
        "    def calculate_salary(self):\n",
        "        return super().calculate_salary() + self.bonus"
      ],
      "metadata": {
        "id": "gat2z3HCM_7t"
      },
      "execution_count": 20,
      "outputs": []
    },
    {
      "cell_type": "markdown",
      "source": [
        "15. Create a class Product with attributes name, price, and quantity. Implement a method total_price() that calculates the total price of the product."
      ],
      "metadata": {
        "id": "v0vVCVgPNAUd"
      }
    },
    {
      "cell_type": "code",
      "source": [
        "class Product:\n",
        "    def _init_(self, name, price, quantity):\n",
        "        self.name = name\n",
        "        self.price = price\n",
        "        self.quantity = quantity\n",
        "\n",
        "    def total_price(self):\n",
        "        return self.price * self.quantity"
      ],
      "metadata": {
        "id": "q_RiDBr5ND41"
      },
      "execution_count": 24,
      "outputs": []
    },
    {
      "cell_type": "markdown",
      "source": [
        "16. Create a class Animal with an abstract method sound(). Create two derived classes Cow and Sheep that implement the sound() method.\n"
      ],
      "metadata": {
        "id": "XFz4MphoNEOE"
      }
    },
    {
      "cell_type": "code",
      "source": [
        "from abc import ABC, abstractmethod\n",
        "\n",
        "class Animal(ABC):\n",
        "    @abstractmethod\n",
        "    def sound(self):\n",
        "        pass\n",
        "\n",
        "class Cow(Animal):\n",
        "    def sound(self):\n",
        "        return \"Moo\"\n",
        "\n",
        "class Sheep(Animal):\n",
        "    def sound(self):\n",
        "        return \"Baa\""
      ],
      "metadata": {
        "id": "kmAyPGYLNINK"
      },
      "execution_count": 23,
      "outputs": []
    },
    {
      "cell_type": "markdown",
      "source": [
        "17. Create a class Book with attributes title, author, and year_published. Add a method get_book_info() that returns a formatted string with the book's details.\n"
      ],
      "metadata": {
        "id": "jEDopdWpNIcd"
      }
    },
    {
      "cell_type": "code",
      "source": [
        "class Book:\n",
        "    def _init_(self, title, author, year_published):\n",
        "        self.title = title\n",
        "        self.author = author\n",
        "        self.year_published = year_published\n",
        "\n",
        "    def get_book_info(self):\n",
        "        return f\"{self.title} by {self.author}, published in {self.year_published}\""
      ],
      "metadata": {
        "id": "jP-_8UAtNMUg"
      },
      "execution_count": 22,
      "outputs": []
    },
    {
      "cell_type": "markdown",
      "source": [
        "18. Create a class House with attributes address and price. Create a derived class Mansion that adds an attribute number_of_rooms."
      ],
      "metadata": {
        "id": "nfPxodk2NMis"
      }
    },
    {
      "cell_type": "code",
      "source": [
        "class House:\n",
        "    def _init_(self, address, price):\n",
        "        self.address = address\n",
        "        self.price = price\n",
        "\n",
        "class Mansion(House):\n",
        "    def _init_(self, address, price, number_of_rooms):\n",
        "        super()._init_(address, price)\n",
        "        self.number_of_rooms = number_of_rooms"
      ],
      "metadata": {
        "id": "fQWTQMRhNQuE"
      },
      "execution_count": 21,
      "outputs": []
    }
  ]
}