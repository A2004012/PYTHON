{
  "nbformat": 4,
  "nbformat_minor": 0,
  "metadata": {
    "colab": {
      "provenance": []
    },
    "kernelspec": {
      "name": "python3",
      "display_name": "Python 3"
    },
    "language_info": {
      "name": "python"
    }
  },
  "cells": [
    {
      "cell_type": "markdown",
      "source": [
        "Question 1: Explain the differences between AI, ML, Deep Learning (DL), and Data Science (DS)- AI (Artificial Intelligence): Machines mimicking human intelligence to perform tasks.\n",
        "- ML (Machine Learning): A subset of AI where machines learn from data without being explicitly programmed.\n",
        "- Deep Learning (DL): A subset of ML using neural networks with many layers for complex pattern recognition.\n",
        "- Data Science (DS): A field extracting insights from data using techniques like ML, stats, and more.\n",
        "\n",
        "Question 2: What are the types of machine learning? Describe each with one real-world example.- Supervised Learning: Model learns from labeled data. Example: Email spam detection.\n",
        "- Unsupervised Learning: Model finds patterns in unlabeled data. Example: Customer segmentation.\n",
        "- Reinforcement Learning: Model learns by interacting with an environment. Example: Game playing AI.\n",
        "\n",
        "Question 3: Define overfitting, underfitting, and the bias-variance tradeoff in machine learning.- Overfitting: Model performs well on training data but poorly on new data.\n",
        "- Underfitting: Model performs poorly on both training and new data.\n",
        "- Bias-Variance Tradeoff: Balancing model complexity to minimize both bias (error due to simplification) and variance (error due to complexity).\n",
        "\n",
        "Question 4: What are outliers in a dataset, and list three common techniques for handling them.- Outliers: Data points significantly different from others.\n",
        "- Techniques:\n",
        "    1. Remove outliers: Delete them if they're errors.\n",
        "    2. Transform data: Use log transforms to reduce impact.\n",
        "    3. Use robust methods: Choose algorithms less affected by outliers.\n",
        "\n",
        "Question 5: Explain the process of handling missing values and mention one imputation technique for numerical and one for categorical data.- Handling missing values involves identifying, analyzing, and imputing or removing them.\n",
        "- Numerical: Impute using mean/median.\n",
        "- Categorical: Impute using mode."
      ],
      "metadata": {
        "id": "QTdoarzU6WIh"
      }
    },
    {
      "cell_type": "markdown",
      "source": [
        " Question 6: Write a Python program that:\n",
        "    - Creates a synthetic imbalanced dataset with make_classification() from sklearn.datasets.\n",
        "    - Prints the class distribution.\n"
      ],
      "metadata": {
        "id": "S5Jz7kMl7jQL"
      }
    },
    {
      "cell_type": "code",
      "source": [
        "from sklearn.datasets import make_classification\n",
        "import numpy as np\n",
        "\n",
        "# Create imbalanced dataset\n",
        "X, y = make_classification(n_samples=1000, n_features=5, n_classes=2,\n",
        "                           weights=[0.9, 0.1], random_state=42)\n",
        "\n",
        "# Print class distribution\n",
        "unique, counts = np.unique(y, return_counts=True)\n",
        "print(\"Class distribution:\", dict(zip(unique, counts)))"
      ],
      "metadata": {
        "colab": {
          "base_uri": "https://localhost:8080/"
        },
        "id": "DhzW3srP6Xwr",
        "outputId": "9d68c21d-745b-4180-82c7-315d7c215513"
      },
      "execution_count": 2,
      "outputs": [
        {
          "output_type": "stream",
          "name": "stdout",
          "text": [
            "Class distribution: {np.int64(0): np.int64(895), np.int64(1): np.int64(105)}\n"
          ]
        }
      ]
    },
    {
      "cell_type": "markdown",
      "source": [
        "Question 7: Implement one-hot encoding using pandas for the following list of colors: ['Red', 'Green', 'Blue', 'Green', 'Red']. Print the resulting dataframe."
      ],
      "metadata": {
        "id": "tgLnjugJ7pdB"
      }
    },
    {
      "cell_type": "code",
      "source": [
        "import pandas as pd\n",
        "\n",
        "colors = ['Red', 'Green', 'Blue', 'Green', 'Red']\n",
        "df = pd.DataFrame(colors, columns=['Color'])\n",
        "\n",
        "# One-hot encoding\n",
        "df_encoded = pd.get_dummies(df, columns=['Color'])\n",
        "print(df_encoded)"
      ],
      "metadata": {
        "colab": {
          "base_uri": "https://localhost:8080/"
        },
        "id": "rrFlU-En7sFG",
        "outputId": "b9d8ebd7-e273-46b0-ec4e-960c382b8f81"
      },
      "execution_count": 3,
      "outputs": [
        {
          "output_type": "stream",
          "name": "stdout",
          "text": [
            "   Color_Blue  Color_Green  Color_Red\n",
            "0       False        False       True\n",
            "1       False         True      False\n",
            "2        True        False      False\n",
            "3       False         True      False\n",
            "4       False        False       True\n"
          ]
        }
      ]
    },
    {
      "cell_type": "markdown",
      "source": [
        "    Question 8: Write a Python script to:\n",
        "    - Generate 1000 samples from a normal distribution.\n",
        "    - Introduce 50 random missing values.\n",
        "    - Fill missing values with the column mean.\n",
        "    - Plot a histogram before and after imputation."
      ],
      "metadata": {
        "id": "Fi-Pm_dU74bO"
      }
    },
    {
      "cell_type": "code",
      "source": [
        "import numpy as np\n",
        "import matplotlib.pyplot as plt\n",
        "\n",
        "# Generate 1000 normal samples\n",
        "data = np.random.randn(1000)\n",
        "\n",
        "# Introduce 50 random missing values\n",
        "missing_indices = np.random.choice(1000, 50, replace=False)\n",
        "data[missing_indices] = np.nan\n",
        "\n",
        "# Plot before imputation\n",
        "plt.hist(data[~np.isnan(data)], bins=30, alpha=0.6, label=\"Before Imputation\")\n",
        "\n",
        "# Fill missing values with mean\n",
        "mean_value = np.nanmean(data)\n",
        "data[np.isnan(data)] = mean_value\n",
        "\n",
        "# Plot after imputation\n",
        "plt.hist(data, bins=30, alpha=0.6, label=\"After Imputation\")\n",
        "plt.legend()\n",
        "plt.show()"
      ],
      "metadata": {
        "colab": {
          "base_uri": "https://localhost:8080/",
          "height": 430
        },
        "id": "zgzvCArf7_Hn",
        "outputId": "b24be034-0b79-48e7-86e8-bf6bb36f8cf6"
      },
      "execution_count": 4,
      "outputs": [
        {
          "output_type": "display_data",
          "data": {
            "text/plain": [
              "<Figure size 640x480 with 1 Axes>"
            ],
            "image/png": "[encoded data removed]"
          },
          "metadata": {}
        }
      ]
    },
    {
      "cell_type": "markdown",
      "source": [
        "Question 9: Implement Min-Max scaling on the following list of numbers [2, 5, 10, 15, 20] using sklearn.preprocessing.MinMaxScaler. Print the scaled array."
      ],
      "metadata": {
        "id": "4VYag04x8Ach"
      }
    },
    {
      "cell_type": "code",
      "source": [
        "from sklearn.preprocessing import MinMaxScaler\n",
        "import numpy as np\n",
        "\n",
        "data = np.array([[2], [5], [10], [15], [20]])\n",
        "\n",
        "scaler = MinMaxScaler()\n",
        "scaled = scaler.fit_transform(data)\n",
        "\n",
        "print(\"Scaled Data:\\n\", scaled)"
      ],
      "metadata": {
        "colab": {
          "base_uri": "https://localhost:8080/"
        },
        "id": "o27nB2T-8Db6",
        "outputId": "ada52707-fc53-44c3-f3db-19ee8916001a"
      },
      "execution_count": 5,
      "outputs": [
        {
          "output_type": "stream",
          "name": "stdout",
          "text": [
            "Scaled Data:\n",
            " [[0.        ]\n",
            " [0.16666667]\n",
            " [0.44444444]\n",
            " [0.72222222]\n",
            " [1.        ]]\n"
          ]
        }
      ]
    },
    {
      "cell_type": "markdown",
      "source": [
        "Question 10 :You are working as a data scientist for a retail company. You receive a customer transaction dataset that contains:\n",
        "- Missing ages,\n",
        "- Outliers in transaction amount,\n",
        "- A highly imbalanced target (fraud vs. non-fraud).\n",
        "- Categorical variables like payment method.\n",
        "ans-\n",
        "\n",
        "1.Missing Ages\n",
        "\n",
        "Ages column has some missing values.\n",
        "\n",
        "Solution → Fill them with median (better than mean for ages).\n",
        "\n",
        "\n",
        "\n",
        "2. Outliers in Transaction Amount\n",
        "\n",
        "Some transactions are too high or too low compared to normal.\n",
        "\n",
        "Solution → Detect outliers using IQR (Interquartile Range) or Z-score, then remove them or cap them at a limit.\n",
        "\n",
        "\n",
        "\n",
        "3. Imbalanced Target (Fraud vs Non-Fraud)\n",
        "\n",
        "Fraud cases are very few compared to non-fraud.\n",
        "\n",
        "Solution → Use techniques like SMOTE (oversample minority) or give class weights in ML model.\n",
        "\n",
        "\n",
        "\n",
        "4. Categorical Variables (Payment Method)\n",
        "\n",
        "Payment method is text data (e.g., Cash, Card, UPI).\n",
        "\n",
        "Solution → Convert into numbers using One-Hot Encoding."
      ],
      "metadata": {
        "id": "keuCuu3x8QNo"
      }
    },
    {
      "cell_type": "code",
      "source": [
        "import pandas as pd\n",
        "import numpy as np\n",
        "from sklearn.impute import SimpleImputer\n",
        "from sklearn.preprocessing import OneHotEncoder\n",
        "from imblearn.over_sampling import SMOTE\n",
        "\n",
        "# Example data\n",
        "data = {\n",
        "    \"age\": [25, np.nan, 30, 40, np.nan, 22],\n",
        "    \"transaction_amount\": [100, 50000, 150, 2000, 120, 300],\n",
        "    \"payment_method\": [\"Card\", \"Cash\", \"UPI\", \"Card\", \"Cash\", \"UPI\"],\n",
        "    \"fraud\": [0, 0, 0, 1, 0, 1]\n",
        "}\n",
        "df = pd.DataFrame(data)\n",
        "\n",
        "print(\"Original Data:\\n\", df)\n",
        "\n",
        "# 1. Handle missing ages → fill with median\n",
        "imputer = SimpleImputer(strategy=\"median\")\n",
        "df[\"age\"] = imputer.fit_transform(df[[\"age\"]])\n",
        "\n",
        "# 2. Handle outliers → cap values using IQR\n",
        "Q1 = df[\"transaction_amount\"].quantile(0.25)\n",
        "Q3 = df[\"transaction_amount\"].quantile(0.75)\n",
        "IQR = Q3 - Q1\n",
        "upper_limit = Q3 + 1.5 * IQR\n",
        "df[\"transaction_amount\"] = np.where(df[\"transaction_amount\"] > upper_limit, upper_limit, df[\"transaction_amount\"])\n",
        "\n",
        "# 3. Encode payment_method → One-Hot Encoding\n",
        "encoder = OneHotEncoder(drop=\"first\")\n",
        "encoded = encoder.fit_transform(df[[\"payment_method\"]])\n",
        "encoded_df = pd.DataFrame(encoded.toarray(), columns=encoder.get_feature_names_out([\"payment_method\"]))\n",
        "df = pd.concat([df.drop(\"payment_method\", axis=1), encoded_df], axis=1)\n",
        "\n",
        "# 4. Handle imbalance → SMOTE\n",
        "X = df.drop(\"fraud\", axis=1)\n",
        "y = df[\"fraud\"]\n",
        "\n",
        "smote = SMOTE(random_state=42, k_neighbors=1)\n",
        "X_resampled, y_resampled = smote.fit_resample(X, y)\n",
        "\n",
        "print(\"\\nCleaned Data:\\n\", df)\n",
        "print(\"\\nBalanced Fraud Distribution:\\n\", y_resampled.value_counts())"
      ],
      "metadata": {
        "colab": {
          "base_uri": "https://localhost:8080/",
          "height": 495
        },
        "id": "1eoCrmNx9mmr",
        "outputId": "09062b23-7e56-4a17-c1d6-e1595210595a"
      },
      "execution_count": 9,
      "outputs": [
        {
          "output_type": "stream",
          "name": "stdout",
          "text": [
            "Original Data:\n",
            "     age  transaction_amount payment_method  fraud\n",
            "0  25.0                 100           Card      0\n",
            "1   NaN               50000           Cash      0\n",
            "2  30.0                 150            UPI      0\n",
            "3  40.0                2000           Card      1\n",
            "4   NaN                 120           Cash      0\n",
            "5  22.0                 300            UPI      1\n"
          ]
        },
        {
          "output_type": "error",
          "ename": "ValueError",
          "evalue": "Expected n_neighbors <= n_samples_fit, but n_neighbors = 6, n_samples_fit = 2, n_samples = 2",
          "traceback": [
            "\u001b[0;31m---------------------------------------------------------------------------\u001b[0m",
            "\u001b[0;31mValueError\u001b[0m                                Traceback (most recent call last)",
            "\u001b[0;32m/tmp/ipython-input-3862395890.py\u001b[0m in \u001b[0;36m<cell line: 0>\u001b[0;34m()\u001b[0m\n\u001b[1;32m     38\u001b[0m \u001b[0;34m\u001b[0m\u001b[0m\n\u001b[1;32m     39\u001b[0m \u001b[0msmote\u001b[0m \u001b[0;34m=\u001b[0m \u001b[0mSMOTE\u001b[0m\u001b[0;34m(\u001b[0m\u001b[0mrandom_state\u001b[0m\u001b[0;34m=\u001b[0m\u001b[0;36m42\u001b[0m\u001b[0;34m)\u001b[0m\u001b[0;34m\u001b[0m\u001b[0;34m\u001b[0m\u001b[0m\n\u001b[0;32m---> 40\u001b[0;31m \u001b[0mX_resampled\u001b[0m\u001b[0;34m,\u001b[0m \u001b[0my_resampled\u001b[0m \u001b[0;34m=\u001b[0m \u001b[0msmote\u001b[0m\u001b[0;34m.\u001b[0m\u001b[0mfit_resample\u001b[0m\u001b[0;34m(\u001b[0m\u001b[0mX\u001b[0m\u001b[0;34m,\u001b[0m \u001b[0my\u001b[0m\u001b[0;34m)\u001b[0m\u001b[0;34m\u001b[0m\u001b[0;34m\u001b[0m\u001b[0m\n\u001b[0m\u001b[1;32m     41\u001b[0m \u001b[0;34m\u001b[0m\u001b[0m\n\u001b[1;32m     42\u001b[0m \u001b[0mprint\u001b[0m\u001b[0;34m(\u001b[0m\u001b[0;34m\"\\nCleaned Data:\\n\"\u001b[0m\u001b[0;34m,\u001b[0m \u001b[0mdf\u001b[0m\u001b[0;34m)\u001b[0m\u001b[0;34m\u001b[0m\u001b[0;34m\u001b[0m\u001b[0m\n",
            "\u001b[0;32m/usr/local/lib/python3.12/dist-packages/imblearn/base.py\u001b[0m in \u001b[0;36mfit_resample\u001b[0;34m(self, X, y, **params)\u001b[0m\n\u001b[1;32m    200\u001b[0m             \u001b[0mThe\u001b[0m \u001b[0mcorresponding\u001b[0m \u001b[0mlabel\u001b[0m \u001b[0mof\u001b[0m\u001b[0;31m \u001b[0m\u001b[0;31m`\u001b[0m\u001b[0mX_resampled\u001b[0m\u001b[0;31m`\u001b[0m\u001b[0;34m.\u001b[0m\u001b[0;34m\u001b[0m\u001b[0;34m\u001b[0m\u001b[0m\n\u001b[1;32m    201\u001b[0m         \"\"\"\n\u001b[0;32m--> 202\u001b[0;31m         \u001b[0;32mreturn\u001b[0m \u001b[0msuper\u001b[0m\u001b[0;34m(\u001b[0m\u001b[0;34m)\u001b[0m\u001b[0;34m.\u001b[0m\u001b[0mfit_resample\u001b[0m\u001b[0;34m(\u001b[0m\u001b[0mX\u001b[0m\u001b[0;34m,\u001b[0m \u001b[0my\u001b[0m\u001b[0;34m,\u001b[0m \u001b[0;34m**\u001b[0m\u001b[0mparams\u001b[0m\u001b[0;34m)\u001b[0m\u001b[0;34m\u001b[0m\u001b[0;34m\u001b[0m\u001b[0m\n\u001b[0m\u001b[1;32m    203\u001b[0m \u001b[0;34m\u001b[0m\u001b[0m\n\u001b[1;32m    204\u001b[0m     \u001b[0;32mdef\u001b[0m \u001b[0m_more_tags\u001b[0m\u001b[0;34m(\u001b[0m\u001b[0mself\u001b[0m\u001b[0;34m)\u001b[0m\u001b[0;34m:\u001b[0m\u001b[0;34m\u001b[0m\u001b[0;34m\u001b[0m\u001b[0m\n",
            "\u001b[0;32m/usr/local/lib/python3.12/dist-packages/sklearn/base.py\u001b[0m in \u001b[0;36mwrapper\u001b[0;34m(estimator, *args, **kwargs)\u001b[0m\n\u001b[1;32m   1387\u001b[0m                 )\n\u001b[1;32m   1388\u001b[0m             ):\n\u001b[0;32m-> 1389\u001b[0;31m                 \u001b[0;32mreturn\u001b[0m \u001b[0mfit_method\u001b[0m\u001b[0;34m(\u001b[0m\u001b[0mestimator\u001b[0m\u001b[0;34m,\u001b[0m \u001b[0;34m*\u001b[0m\u001b[0margs\u001b[0m\u001b[0;34m,\u001b[0m \u001b[0;34m**\u001b[0m\u001b[0mkwargs\u001b[0m\u001b[0;34m)\u001b[0m\u001b[0;34m\u001b[0m\u001b[0;34m\u001b[0m\u001b[0m\n\u001b[0m\u001b[1;32m   1390\u001b[0m \u001b[0;34m\u001b[0m\u001b[0m\n\u001b[1;32m   1391\u001b[0m         \u001b[0;32mreturn\u001b[0m \u001b[0mwrapper\u001b[0m\u001b[0;34m\u001b[0m\u001b[0;34m\u001b[0m\u001b[0m\n",
            "\u001b[0;32m/usr/local/lib/python3.12/dist-packages/imblearn/base.py\u001b[0m in \u001b[0;36mfit_resample\u001b[0;34m(self, X, y, **params)\u001b[0m\n\u001b[1;32m    103\u001b[0m         )\n\u001b[1;32m    104\u001b[0m \u001b[0;34m\u001b[0m\u001b[0m\n\u001b[0;32m--> 105\u001b[0;31m         \u001b[0moutput\u001b[0m \u001b[0;34m=\u001b[0m \u001b[0mself\u001b[0m\u001b[0;34m.\u001b[0m\u001b[0m_fit_resample\u001b[0m\u001b[0;34m(\u001b[0m\u001b[0mX\u001b[0m\u001b[0;34m,\u001b[0m \u001b[0my\u001b[0m\u001b[0;34m,\u001b[0m \u001b[0;34m**\u001b[0m\u001b[0mparams\u001b[0m\u001b[0;34m)\u001b[0m\u001b[0;34m\u001b[0m\u001b[0;34m\u001b[0m\u001b[0m\n\u001b[0m\u001b[1;32m    106\u001b[0m \u001b[0;34m\u001b[0m\u001b[0m\n\u001b[1;32m    107\u001b[0m         y_ = (\n",
            "\u001b[0;32m/usr/local/lib/python3.12/dist-packages/imblearn/over_sampling/_smote/base.py\u001b[0m in \u001b[0;36m_fit_resample\u001b[0;34m(self, X, y)\u001b[0m\n\u001b[1;32m    357\u001b[0m \u001b[0;34m\u001b[0m\u001b[0m\n\u001b[1;32m    358\u001b[0m             \u001b[0mself\u001b[0m\u001b[0;34m.\u001b[0m\u001b[0mnn_k_\u001b[0m\u001b[0;34m.\u001b[0m\u001b[0mfit\u001b[0m\u001b[0;34m(\u001b[0m\u001b[0mX_class\u001b[0m\u001b[0;34m)\u001b[0m\u001b[0;34m\u001b[0m\u001b[0;34m\u001b[0m\u001b[0m\n\u001b[0;32m--> 359\u001b[0;31m             \u001b[0mnns\u001b[0m \u001b[0;34m=\u001b[0m \u001b[0mself\u001b[0m\u001b[0;34m.\u001b[0m\u001b[0mnn_k_\u001b[0m\u001b[0;34m.\u001b[0m\u001b[0mkneighbors\u001b[0m\u001b[0;34m(\u001b[0m\u001b[0mX_class\u001b[0m\u001b[0;34m,\u001b[0m \u001b[0mreturn_distance\u001b[0m\u001b[0;34m=\u001b[0m\u001b[0;32mFalse\u001b[0m\u001b[0;34m)\u001b[0m\u001b[0;34m[\u001b[0m\u001b[0;34m:\u001b[0m\u001b[0;34m,\u001b[0m \u001b[0;36m1\u001b[0m\u001b[0;34m:\u001b[0m\u001b[0;34m]\u001b[0m\u001b[0;34m\u001b[0m\u001b[0;34m\u001b[0m\u001b[0m\n\u001b[0m\u001b[1;32m    360\u001b[0m             X_new, y_new = self._make_samples(\n\u001b[1;32m    361\u001b[0m                 \u001b[0mX_class\u001b[0m\u001b[0;34m,\u001b[0m \u001b[0my\u001b[0m\u001b[0;34m.\u001b[0m\u001b[0mdtype\u001b[0m\u001b[0;34m,\u001b[0m \u001b[0mclass_sample\u001b[0m\u001b[0;34m,\u001b[0m \u001b[0mX_class\u001b[0m\u001b[0;34m,\u001b[0m \u001b[0mnns\u001b[0m\u001b[0;34m,\u001b[0m \u001b[0mn_samples\u001b[0m\u001b[0;34m,\u001b[0m \u001b[0;36m1.0\u001b[0m\u001b[0;34m\u001b[0m\u001b[0;34m\u001b[0m\u001b[0m\n",
            "\u001b[0;32m/usr/local/lib/python3.12/dist-packages/sklearn/neighbors/_base.py\u001b[0m in \u001b[0;36mkneighbors\u001b[0;34m(self, X, n_neighbors, return_distance)\u001b[0m\n\u001b[1;32m    852\u001b[0m             \u001b[0;32melse\u001b[0m\u001b[0;34m:\u001b[0m\u001b[0;34m\u001b[0m\u001b[0;34m\u001b[0m\u001b[0m\n\u001b[1;32m    853\u001b[0m                 \u001b[0minequality_str\u001b[0m \u001b[0;34m=\u001b[0m \u001b[0;34m\"n_neighbors <= n_samples_fit\"\u001b[0m\u001b[0;34m\u001b[0m\u001b[0;34m\u001b[0m\u001b[0m\n\u001b[0;32m--> 854\u001b[0;31m             raise ValueError(\n\u001b[0m\u001b[1;32m    855\u001b[0m                 \u001b[0;34mf\"Expected {inequality_str}, but \"\u001b[0m\u001b[0;34m\u001b[0m\u001b[0;34m\u001b[0m\u001b[0m\n\u001b[1;32m    856\u001b[0m                 \u001b[0;34mf\"n_neighbors = {n_neighbors}, n_samples_fit = {n_samples_fit}, \"\u001b[0m\u001b[0;34m\u001b[0m\u001b[0;34m\u001b[0m\u001b[0m\n",
            "\u001b[0;31mValueError\u001b[0m: Expected n_neighbors <= n_samples_fit, but n_neighbors = 6, n_samples_fit = 2, n_samples = 2"
          ]
        }
      ]
    }
  ]
}